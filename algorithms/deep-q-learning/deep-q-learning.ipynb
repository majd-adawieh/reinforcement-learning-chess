{
 "cells": [
  {
   "cell_type": "code",
   "execution_count": 1,
   "id": "edc9d461",
   "metadata": {},
   "outputs": [],
   "source": [
    "import random\n",
    "import copy\n",
    "import gym\n",
    "import torch\n",
    "import torch.nn.functional as F\n",
    "import matplotlib.pyplot as plt\n",
    "from torch import nn as nn\n",
    "from torch.optim import AdamW\n",
    "from tqdm import tqdm\n",
    "\n",
    "from utils import test_agent, plot_stats"
   ]
  },
  {
   "cell_type": "code",
   "execution_count": 2,
   "id": "ff8f7c1d",
   "metadata": {},
   "outputs": [
    {
     "name": "stderr",
     "output_type": "stream",
     "text": [
      "C:\\Users\\majda\\AppData\\Local\\Packages\\PythonSoftwareFoundation.Python.3.10_qbz5n2kfra8p0\\LocalCache\\local-packages\\Python310\\site-packages\\pyglet\\image\\codecs\\wic.py:406: UserWarning: [WinError -2147417850] Cannot change thread mode after it is set\n",
      "  warnings.warn(str(err))\n"
     ]
    },
    {
     "data": {
      "text/plain": [
       "<matplotlib.image.AxesImage at 0x21cd1d64460>"
      ]
     },
     "execution_count": 2,
     "metadata": {},
     "output_type": "execute_result"
    },
    {
     "data": {
      "image/png": "[encoded data removed]",
      "text/plain": [
       "<Figure size 432x288 with 1 Axes>"
      ]
     },
     "metadata": {
      "needs_background": "light"
     },
     "output_type": "display_data"
    }
   ],
   "source": [
    "env = gym.make('CartPole-v0')\n",
    "env.reset()\n",
    "plt.imshow(env.render(mode='rgb_array'))"
   ]
  },
  {
   "cell_type": "code",
   "execution_count": 3,
   "id": "416ab8cd",
   "metadata": {},
   "outputs": [
    {
     "name": "stdout",
     "output_type": "stream",
     "text": [
      "CartPole env: State dimensions: 4, Number of actions: 2\n"
     ]
    }
   ],
   "source": [
    "state_dims = env.observation_space.shape[0]\n",
    "num_actions = env.action_space.n\n",
    "print(f\"CartPole env: State dimensions: {state_dims}, Number of actions: {num_actions}\")"
   ]
  },
  {
   "cell_type": "code",
   "execution_count": 4,
   "id": "a5bfcd3a",
   "metadata": {},
   "outputs": [],
   "source": [
    "class PreprocessEnv(gym.Wrapper):\n",
    "    \n",
    "    def __init__(self, env):\n",
    "        gym.Wrapper.__init__(self, env)\n",
    "    \n",
    "    def reset(self):\n",
    "        obs = self.env.reset()\n",
    "        return torch.from_numpy(obs).unsqueeze(dim=0).float()\n",
    "    \n",
    "    def step(self, action):\n",
    "        action = action.item()\n",
    "        next_state, reward, done, info = self.env.step(action)\n",
    "        next_state = torch.from_numpy(next_state).unsqueeze(dim=0).float()\n",
    "        reward = torch.tensor(reward).view(1, -1).float()\n",
    "        done = torch.tensor(done).view(1, -1)\n",
    "        return next_state, reward, done, info"
   ]
  },
  {
   "cell_type": "code",
   "execution_count": 5,
   "id": "9c80fe9f",
   "metadata": {},
   "outputs": [],
   "source": [
    "env = PreprocessEnv(env)"
   ]
  },
  {
   "cell_type": "code",
   "execution_count": 6,
   "id": "41568f2e",
   "metadata": {},
   "outputs": [
    {
     "name": "stdout",
     "output_type": "stream",
     "text": [
      "Sample state: tensor([[ 0.0264, -0.0247,  0.0130, -0.0196]])\n",
      "Next state: tensor([[ 0.0260, -0.2200,  0.0126,  0.2772]]), Reward: tensor([[1.]]), Done: tensor([[False]])\n"
     ]
    }
   ],
   "source": [
    "state = env.reset()\n",
    "action = torch.tensor(0)\n",
    "next_state, reward, done, _ = env.step(action)\n",
    "print(f\"Sample state: {state}\")\n",
    "print(f\"Next state: {next_state}, Reward: {reward}, Done: {done}\")"
   ]
  },
  {
   "cell_type": "code",
   "execution_count": 7,
   "id": "f822cf05",
   "metadata": {},
   "outputs": [],
   "source": [
    "q_network = nn.Sequential(\n",
    "    nn.Linear(state_dims, 128),\n",
    "    nn.ReLU(),\n",
    "    nn.Linear(128, 64),\n",
    "    nn.ReLU(),\n",
    "    nn.Linear(64, num_actions))\n",
    "target_q_network = copy.deepcopy(q_network).eval()"
   ]
  },
  {
   "cell_type": "code",
   "execution_count": 8,
   "id": "86c97e16",
   "metadata": {},
   "outputs": [],
   "source": [
    "def policy(state, epsilon=0.):\n",
    "    if torch.rand(1) < epsilon:\n",
    "        return torch.randint(num_actions, (1, 1))\n",
    "    else:\n",
    "        av = q_network(state).detach()\n",
    "        return torch.argmax(av, dim=-1, keepdim=True)"
   ]
  },
  {
   "cell_type": "code",
   "execution_count": 9,
   "id": "ba788750",
   "metadata": {},
   "outputs": [],
   "source": [
    "class ReplayMemory:\n",
    "    \n",
    "    def __init__(self, capacity=100000):\n",
    "        self.capacity = capacity\n",
    "        self.memory = []\n",
    "        self.position = 0\n",
    "\n",
    "    def insert(self, transition):\n",
    "        if len(self.memory) < self.capacity:\n",
    "            self.memory.append(None)\n",
    "        self.memory[self.position] = transition\n",
    "        self.position = (self.position + 1) % self.capacity\n",
    "\n",
    "    def sample(self, batch_size):\n",
    "        assert self.can_sample(batch_size)\n",
    "\n",
    "        batch = random.sample(self.memory, batch_size)\n",
    "        batch = zip(*batch)\n",
    "        return [torch.cat(items) for items in batch]\n",
    "\n",
    "    def can_sample(self, batch_size):\n",
    "        return len(self.memory) >= batch_size * 10\n",
    "\n",
    "    def __len__(self):\n",
    "        return len(self.memory)"
   ]
  },
  {
   "cell_type": "code",
   "execution_count": 10,
   "id": "e5d1860e",
   "metadata": {},
   "outputs": [],
   "source": [
    "def deep_q_learning(q_network, policy, episodes, \n",
    "                    alpha=0.0001, batch_size=32, gamma=0.99, epsilon=0.2):\n",
    "    \n",
    "    optim = AdamW(q_network.parameters(), lr=alpha)\n",
    "    memory = ReplayMemory()\n",
    "    stats = {'MSE Loss': [], 'Returns': []}\n",
    "    \n",
    "    for episode in tqdm(range(1, episodes + 1)):\n",
    "        state = env.reset()\n",
    "        done = False\n",
    "        ep_return = 0\n",
    "        while not done:\n",
    "            action = policy(state, epsilon)\n",
    "            next_state, reward, done, _ = env.step(action)\n",
    "            \n",
    "            memory.insert([state, action, reward, done, next_state])\n",
    "            \n",
    "            if memory.can_sample(batch_size):\n",
    "                state_b, action_b, reward_b, done_b, next_state_b = memory.sample(batch_size)              \n",
    "                qsa_b = q_network(state_b).gather(1, action_b)\n",
    "                \n",
    "                next_qsa_b = target_q_network(next_state_b)\n",
    "                next_qsa_b = torch.max(next_qsa_b, dim=-1, keepdim=True)[0]\n",
    "                \n",
    "                target_b = reward_b + ~done_b * gamma * next_qsa_b\n",
    "                loss = F.mse_loss(qsa_b, target_b)\n",
    "                q_network.zero_grad()\n",
    "                loss.backward()\n",
    "                optim.step()\n",
    "                \n",
    "                stats['MSE Loss'].append(loss)  \n",
    "                \n",
    "            state = next_state\n",
    "            ep_return += reward.item()\n",
    "            \n",
    "        \n",
    "        stats['Returns'].append(ep_return)\n",
    "        \n",
    "        if episode % 10 == 0:\n",
    "            target_q_network.load_state_dict(q_network.state_dict())\n",
    "\n",
    "    return stats"
   ]
  },
  {
   "cell_type": "code",
   "execution_count": null,
   "id": "def36ead",
   "metadata": {},
   "outputs": [
    {
     "name": "stderr",
     "output_type": "stream",
     "text": [
      " 94%|██████████████████████████████████████████████████████████████████████████     | 937/1000 [06:17<00:53,  1.17it/s]"
     ]
    }
   ],
   "source": [
    "stats = deep_q_learning(q_network, policy, 1000)"
   ]
  },
  {
   "cell_type": "code",
   "execution_count": 15,
   "id": "9bd76652",
   "metadata": {},
   "outputs": [
    {
     "data": {
      "image/png": "[encoded data removed]",
      "text/plain": [
       "<Figure size 576x576 with 1 Axes>"
      ]
     },
     "metadata": {
      "needs_background": "light"
     },
     "output_type": "display_data"
    }
   ],
   "source": [
    "test_agent(env, policy, episodes=2)\n",
    "env.close()"
   ]
  },
  {
   "cell_type": "code",
   "execution_count": null,
   "id": "9a8edcab",
   "metadata": {},
   "outputs": [],
   "source": []
  }
 ],
 "metadata": {
  "kernelspec": {
   "display_name": "Python 3 (ipykernel)",
   "language": "python",
   "name": "python3"
  },
  "language_info": {
   "codemirror_mode": {
    "name": "ipython",
    "version": 3
   },
   "file_extension": ".py",
   "mimetype": "text/x-python",
   "name": "python",
   "nbconvert_exporter": "python",
   "pygments_lexer": "ipython3",
   "version": "3.10.4"
  },
  "vscode": {
   "interpreter": {
    "hash": "6dcb98b0cb66e7bb516e35d61dc361f03b9d6b6239965800e2e49f08121a080a"
   }
  }
 },
 "nbformat": 4,
 "nbformat_minor": 5
}
